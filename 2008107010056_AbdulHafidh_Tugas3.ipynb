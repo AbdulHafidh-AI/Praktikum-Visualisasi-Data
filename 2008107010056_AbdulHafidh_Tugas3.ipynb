{
 "cells": [
  {
   "cell_type": "markdown",
   "metadata": {},
   "source": [
    "### TUGAS 3 PRAKTIKUM VISUALISASI DATA\n",
    "<ul>\n",
    "<li>Nama: Abdul Hafidh 👨</li>\n",
    "<li>NPM : 2008107010056 </li>\n",
    "<li>Kelas: B </li>\n",
    "</ul>"
   ]
  },
  {
   "cell_type": "code",
   "execution_count": 1,
   "metadata": {},
   "outputs": [],
   "source": [
    "import pandas as pd"
   ]
  },
  {
   "cell_type": "code",
   "execution_count": null,
   "metadata": {},
   "outputs": [],
   "source": [
    "sample = pd.read_csv('https://raw.githubusercontent.com/AbdulHafidh-AI/Praktikum-Visualisasi-Data/master/Military%20Expenditure.csv')"
   ]
  }
 ],
 "metadata": {
  "interpreter": {
   "hash": "26aa6072d1ed0e472aea8687e7dca1433993b9671245bbd21c12d66bb6bdbb5b"
  },
  "kernelspec": {
   "display_name": "Python 3.9.4 64-bit",
   "language": "python",
   "name": "python3"
  },
  "language_info": {
   "codemirror_mode": {
    "name": "ipython",
    "version": 3
   },
   "file_extension": ".py",
   "mimetype": "text/x-python",
   "name": "python",
   "nbconvert_exporter": "python",
   "pygments_lexer": "ipython3",
   "version": "3.9.4"
  },
  "orig_nbformat": 4
 },
 "nbformat": 4,
 "nbformat_minor": 2
}
