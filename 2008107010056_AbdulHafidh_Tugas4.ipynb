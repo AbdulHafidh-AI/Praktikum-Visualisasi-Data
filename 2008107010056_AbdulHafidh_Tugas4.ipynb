{
 "cells": [
  {
   "cell_type": "markdown",
   "metadata": {},
   "source": [
    "### INTRODUCTION\n",
    "<ul>\n",
    "<li>Nama: Abdul Hafidh</li>\n",
    "<li> NPM: 2008107010056</li>\n",
    "<li> Kelas: B</li>\n",
    "</ul>"
   ]
  },
  {
   "cell_type": "code",
   "execution_count": 42,
   "metadata": {},
   "outputs": [],
   "source": [
    "import numpy as np  # Bertujuan untuk menghitung angka komputasi\n",
    "import pandas as pd # Salah satunya bertujuan untuk membaca file csv pada kasus ini\n",
    "from PIL import Image # Mengkonversi gambar ke dalam array\n",
    "import matplotlib as mpl # Berguna untuk melakukan plotting\n",
    "import matplotlib.pyplot as plt\n",
    "import matplotlib.patches as mpatches # Berguna untuk memvisualkan waffle chart\n",
    "import seaborn as sns # Berguna untuk membuat plot regresi\n"
   ]
  },
  {
   "cell_type": "code",
   "execution_count": 43,
   "metadata": {},
   "outputs": [],
   "source": [
    "sample = pd.read_csv('https://raw.githubusercontent.com/AbdulHafidh-AI/Praktikum-Visualisasi-Data/master/Military%20Expenditure.csv')"
   ]
  },
  {
   "cell_type": "markdown",
   "metadata": {},
   "source": [
    "### 1. Exploratory Data Analysis"
   ]
  },
  {
   "cell_type": "markdown",
   "metadata": {},
   "source": [
    "Melihat 5 data teratas"
   ]
  },
  {
   "cell_type": "code",
   "execution_count": 44,
   "metadata": {},
   "outputs": [
    {
     "name": "stdout",
     "output_type": "stream",
     "text": [
      "          Name Code     Type                      Indicator Name  1960  1961  \\\n",
      "0        Aruba  ABW  Country  Military expenditure (current USD)   NaN   NaN   \n",
      "1  Afghanistan  AFG  Country  Military expenditure (current USD)   NaN   NaN   \n",
      "2       Angola  AGO  Country  Military expenditure (current USD)   NaN   NaN   \n",
      "3      Albania  ALB  Country  Military expenditure (current USD)   NaN   NaN   \n",
      "4      Andorra  AND  Country  Military expenditure (current USD)   NaN   NaN   \n",
      "\n",
      "   1962  1963  1964  1965  ...          2009          2010          2011  \\\n",
      "0   NaN   NaN   NaN   NaN  ...           NaN           NaN           NaN   \n",
      "1   NaN   NaN   NaN   NaN  ...  2.518695e+08  2.981469e+08  3.258070e+08   \n",
      "2   NaN   NaN   NaN   NaN  ...  3.311193e+09  3.500795e+09  3.639496e+09   \n",
      "3   NaN   NaN   NaN   NaN  ...  1.827369e+08  1.858932e+08  1.970068e+08   \n",
      "4   NaN   NaN   NaN   NaN  ...           NaN           NaN           NaN   \n",
      "\n",
      "           2012          2013          2014          2015          2016  \\\n",
      "0           NaN           NaN           NaN           NaN           NaN   \n",
      "1  2.385834e+08  2.171941e+08  2.682271e+08  1.995186e+08  1.858783e+08   \n",
      "2  4.144635e+09  6.090752e+09  6.841864e+09  3.608299e+09  2.764055e+09   \n",
      "3  1.832047e+08  1.800155e+08  1.781204e+08  1.323507e+08  1.308532e+08   \n",
      "4           NaN           NaN           NaN           NaN           NaN   \n",
      "\n",
      "           2017          2018  \n",
      "0           NaN           NaN  \n",
      "1  1.914071e+08  1.980863e+08  \n",
      "2  3.062873e+09  1.983614e+09  \n",
      "3  1.443827e+08  1.804887e+08  \n",
      "4           NaN           NaN  \n",
      "\n",
      "[5 rows x 63 columns]\n"
     ]
    }
   ],
   "source": [
    "print(sample.head());"
   ]
  },
  {
   "cell_type": "markdown",
   "metadata": {},
   "source": [
    "Melihat 5 data terbawah"
   ]
  },
  {
   "cell_type": "code",
   "execution_count": 45,
   "metadata": {},
   "outputs": [
    {
     "name": "stdout",
     "output_type": "stream",
     "text": [
      "             Name Code     Type                      Indicator Name  \\\n",
      "259        Kosovo  XKX  Country  Military expenditure (current USD)   \n",
      "260   Yemen, Rep.  YEM  Country  Military expenditure (current USD)   \n",
      "261  South Africa  ZAF  Country  Military expenditure (current USD)   \n",
      "262        Zambia  ZMB  Country  Military expenditure (current USD)   \n",
      "263      Zimbabwe  ZWE  Country  Military expenditure (current USD)   \n",
      "\n",
      "           1960         1961         1962         1963         1964  \\\n",
      "259         NaN          NaN          NaN          NaN          NaN   \n",
      "260         NaN          NaN          NaN          NaN          NaN   \n",
      "261  69999972.0  113749954.5  186199925.5  188999924.4  271599891.4   \n",
      "262         NaN          NaN          NaN          NaN          NaN   \n",
      "263         NaN          NaN          NaN          NaN          NaN   \n",
      "\n",
      "            1965  ...          2009          2010          2011          2012  \\\n",
      "259          NaN  ...  2.722709e+07  3.857812e+07  5.096886e+07  4.339040e+07   \n",
      "260          NaN  ...  1.420775e+09  1.448153e+09  1.612254e+09  1.618840e+09   \n",
      "261  289449884.2  ...  3.592688e+09  4.188168e+09  4.594154e+09  4.489590e+09   \n",
      "262          NaN  ...  2.209623e+08  2.801878e+08  3.091138e+08  3.463014e+08   \n",
      "263   15600000.0  ...           NaN  9.829300e+07  1.984380e+08  3.182720e+08   \n",
      "\n",
      "             2013          2014          2015          2016          2017  \\\n",
      "259  4.859768e+07  5.357579e+07  4.998416e+07  5.193762e+07  5.726263e+07   \n",
      "260  1.648751e+09  1.714831e+09           NaN           NaN           NaN   \n",
      "261  4.118208e+09  3.892469e+09  3.488868e+09  3.169756e+09  3.638937e+09   \n",
      "262  3.813458e+08  4.436044e+08  3.724476e+08  2.995048e+08  3.396645e+08   \n",
      "263  3.567000e+08  3.681000e+08  3.766770e+08  3.580650e+08  3.405220e+08   \n",
      "\n",
      "             2018  \n",
      "259  6.334407e+07  \n",
      "260           NaN  \n",
      "261  3.639879e+09  \n",
      "262  3.780254e+08  \n",
      "263  4.203640e+08  \n",
      "\n",
      "[5 rows x 63 columns]\n"
     ]
    }
   ],
   "source": [
    "print(sample.tail());"
   ]
  },
  {
   "cell_type": "markdown",
   "metadata": {},
   "source": [
    "Menghapus semua missing value pada dataset"
   ]
  },
  {
   "cell_type": "code",
   "execution_count": 46,
   "metadata": {},
   "outputs": [
    {
     "data": {
      "text/html": [
       "<div>\n",
       "<style scoped>\n",
       "    .dataframe tbody tr th:only-of-type {\n",
       "        vertical-align: middle;\n",
       "    }\n",
       "\n",
       "    .dataframe tbody tr th {\n",
       "        vertical-align: top;\n",
       "    }\n",
       "\n",
       "    .dataframe thead th {\n",
       "        text-align: right;\n",
       "    }\n",
       "</style>\n",
       "<table border=\"1\" class=\"dataframe\">\n",
       "  <thead>\n",
       "    <tr style=\"text-align: right;\">\n",
       "      <th></th>\n",
       "      <th>Name</th>\n",
       "      <th>Code</th>\n",
       "      <th>Type</th>\n",
       "      <th>Indicator Name</th>\n",
       "      <th>1960</th>\n",
       "      <th>1961</th>\n",
       "      <th>1962</th>\n",
       "      <th>1963</th>\n",
       "      <th>1964</th>\n",
       "      <th>1965</th>\n",
       "      <th>...</th>\n",
       "      <th>2009</th>\n",
       "      <th>2010</th>\n",
       "      <th>2011</th>\n",
       "      <th>2012</th>\n",
       "      <th>2013</th>\n",
       "      <th>2014</th>\n",
       "      <th>2015</th>\n",
       "      <th>2016</th>\n",
       "      <th>2017</th>\n",
       "      <th>2018</th>\n",
       "    </tr>\n",
       "  </thead>\n",
       "  <tbody>\n",
       "    <tr>\n",
       "      <th>11</th>\n",
       "      <td>Australia</td>\n",
       "      <td>AUS</td>\n",
       "      <td>Country</td>\n",
       "      <td>Military expenditure (current USD)</td>\n",
       "      <td>4.597601e+08</td>\n",
       "      <td>4.709601e+08</td>\n",
       "      <td>4.894401e+08</td>\n",
       "      <td>5.532801e+08</td>\n",
       "      <td>6.557601e+08</td>\n",
       "      <td>7.873601e+08</td>\n",
       "      <td>...</td>\n",
       "      <td>1.896014e+10</td>\n",
       "      <td>2.321769e+10</td>\n",
       "      <td>2.659720e+10</td>\n",
       "      <td>2.621658e+10</td>\n",
       "      <td>2.482526e+10</td>\n",
       "      <td>2.578371e+10</td>\n",
       "      <td>2.404557e+10</td>\n",
       "      <td>2.638295e+10</td>\n",
       "      <td>2.769111e+10</td>\n",
       "      <td>2.671183e+10</td>\n",
       "    </tr>\n",
       "    <tr>\n",
       "      <th>12</th>\n",
       "      <td>Austria</td>\n",
       "      <td>AUT</td>\n",
       "      <td>Country</td>\n",
       "      <td>Military expenditure (current USD)</td>\n",
       "      <td>9.155910e+07</td>\n",
       "      <td>9.102985e+07</td>\n",
       "      <td>1.000270e+08</td>\n",
       "      <td>1.259599e+08</td>\n",
       "      <td>1.645947e+08</td>\n",
       "      <td>1.428957e+08</td>\n",
       "      <td>...</td>\n",
       "      <td>3.334755e+09</td>\n",
       "      <td>3.218351e+09</td>\n",
       "      <td>3.409721e+09</td>\n",
       "      <td>3.187227e+09</td>\n",
       "      <td>3.229066e+09</td>\n",
       "      <td>3.305159e+09</td>\n",
       "      <td>2.665410e+09</td>\n",
       "      <td>2.885947e+09</td>\n",
       "      <td>3.138359e+09</td>\n",
       "      <td>3.367460e+09</td>\n",
       "    </tr>\n",
       "    <tr>\n",
       "      <th>15</th>\n",
       "      <td>Belgium</td>\n",
       "      <td>BEL</td>\n",
       "      <td>Country</td>\n",
       "      <td>Military expenditure (current USD)</td>\n",
       "      <td>3.832202e+08</td>\n",
       "      <td>3.912188e+08</td>\n",
       "      <td>4.222208e+08</td>\n",
       "      <td>4.446013e+08</td>\n",
       "      <td>4.970592e+08</td>\n",
       "      <td>5.007221e+08</td>\n",
       "      <td>...</td>\n",
       "      <td>5.620670e+09</td>\n",
       "      <td>5.244721e+09</td>\n",
       "      <td>5.499371e+09</td>\n",
       "      <td>5.168998e+09</td>\n",
       "      <td>5.263165e+09</td>\n",
       "      <td>5.191509e+09</td>\n",
       "      <td>4.202063e+09</td>\n",
       "      <td>4.314102e+09</td>\n",
       "      <td>4.484653e+09</td>\n",
       "      <td>4.959692e+09</td>\n",
       "    </tr>\n",
       "    <tr>\n",
       "      <th>17</th>\n",
       "      <td>Burkina Faso</td>\n",
       "      <td>BFA</td>\n",
       "      <td>Country</td>\n",
       "      <td>Military expenditure (current USD)</td>\n",
       "      <td>1.268378e+06</td>\n",
       "      <td>1.643154e+06</td>\n",
       "      <td>4.901761e+06</td>\n",
       "      <td>5.281288e+06</td>\n",
       "      <td>5.358593e+06</td>\n",
       "      <td>3.509330e+06</td>\n",
       "      <td>...</td>\n",
       "      <td>1.273333e+08</td>\n",
       "      <td>1.237005e+08</td>\n",
       "      <td>1.388509e+08</td>\n",
       "      <td>1.477297e+08</td>\n",
       "      <td>1.661363e+08</td>\n",
       "      <td>1.771670e+08</td>\n",
       "      <td>1.479347e+08</td>\n",
       "      <td>1.494674e+08</td>\n",
       "      <td>1.910658e+08</td>\n",
       "      <td>3.124676e+08</td>\n",
       "    </tr>\n",
       "    <tr>\n",
       "      <th>27</th>\n",
       "      <td>Brazil</td>\n",
       "      <td>BRA</td>\n",
       "      <td>Country</td>\n",
       "      <td>Military expenditure (current USD)</td>\n",
       "      <td>3.827298e+08</td>\n",
       "      <td>3.423397e+08</td>\n",
       "      <td>3.874490e+08</td>\n",
       "      <td>4.419996e+08</td>\n",
       "      <td>3.542279e+08</td>\n",
       "      <td>6.328690e+08</td>\n",
       "      <td>...</td>\n",
       "      <td>2.564881e+10</td>\n",
       "      <td>3.400294e+10</td>\n",
       "      <td>3.693621e+10</td>\n",
       "      <td>3.398701e+10</td>\n",
       "      <td>3.287479e+10</td>\n",
       "      <td>3.265961e+10</td>\n",
       "      <td>2.461770e+10</td>\n",
       "      <td>2.422475e+10</td>\n",
       "      <td>2.928305e+10</td>\n",
       "      <td>2.776643e+10</td>\n",
       "    </tr>\n",
       "    <tr>\n",
       "      <th>...</th>\n",
       "      <td>...</td>\n",
       "      <td>...</td>\n",
       "      <td>...</td>\n",
       "      <td>...</td>\n",
       "      <td>...</td>\n",
       "      <td>...</td>\n",
       "      <td>...</td>\n",
       "      <td>...</td>\n",
       "      <td>...</td>\n",
       "      <td>...</td>\n",
       "      <td>...</td>\n",
       "      <td>...</td>\n",
       "      <td>...</td>\n",
       "      <td>...</td>\n",
       "      <td>...</td>\n",
       "      <td>...</td>\n",
       "      <td>...</td>\n",
       "      <td>...</td>\n",
       "      <td>...</td>\n",
       "      <td>...</td>\n",
       "      <td>...</td>\n",
       "    </tr>\n",
       "    <tr>\n",
       "      <th>238</th>\n",
       "      <td>South Asia (IDA &amp; IBRD)</td>\n",
       "      <td>TSA</td>\n",
       "      <td>Regions Clubbed Economically</td>\n",
       "      <td>Military expenditure (current USD)</td>\n",
       "      <td>9.072639e+08</td>\n",
       "      <td>9.755770e+08</td>\n",
       "      <td>1.281626e+09</td>\n",
       "      <td>2.029027e+09</td>\n",
       "      <td>2.258474e+09</td>\n",
       "      <td>2.580099e+09</td>\n",
       "      <td>...</td>\n",
       "      <td>4.723932e+10</td>\n",
       "      <td>5.577481e+10</td>\n",
       "      <td>6.075238e+10</td>\n",
       "      <td>5.848949e+10</td>\n",
       "      <td>5.919605e+10</td>\n",
       "      <td>6.443596e+10</td>\n",
       "      <td>6.617543e+10</td>\n",
       "      <td>7.213496e+10</td>\n",
       "      <td>8.207734e+10</td>\n",
       "      <td>8.405855e+10</td>\n",
       "    </tr>\n",
       "    <tr>\n",
       "      <th>241</th>\n",
       "      <td>Tunisia</td>\n",
       "      <td>TUN</td>\n",
       "      <td>Country</td>\n",
       "      <td>Military expenditure (current USD)</td>\n",
       "      <td>1.595238e+07</td>\n",
       "      <td>1.857143e+07</td>\n",
       "      <td>1.428571e+07</td>\n",
       "      <td>1.523810e+07</td>\n",
       "      <td>1.747899e+07</td>\n",
       "      <td>1.276190e+07</td>\n",
       "      <td>...</td>\n",
       "      <td>5.647759e+08</td>\n",
       "      <td>5.711890e+08</td>\n",
       "      <td>7.152396e+08</td>\n",
       "      <td>6.812260e+08</td>\n",
       "      <td>7.593589e+08</td>\n",
       "      <td>9.083573e+08</td>\n",
       "      <td>9.794940e+08</td>\n",
       "      <td>9.877347e+08</td>\n",
       "      <td>8.589496e+08</td>\n",
       "      <td>8.442274e+08</td>\n",
       "    </tr>\n",
       "    <tr>\n",
       "      <th>242</th>\n",
       "      <td>Turkey</td>\n",
       "      <td>TUR</td>\n",
       "      <td>Country</td>\n",
       "      <td>Military expenditure (current USD)</td>\n",
       "      <td>4.688109e+08</td>\n",
       "      <td>3.013304e+08</td>\n",
       "      <td>3.303769e+08</td>\n",
       "      <td>3.500000e+08</td>\n",
       "      <td>3.808978e+08</td>\n",
       "      <td>4.226770e+08</td>\n",
       "      <td>...</td>\n",
       "      <td>1.635230e+10</td>\n",
       "      <td>1.793937e+10</td>\n",
       "      <td>1.730488e+10</td>\n",
       "      <td>1.795824e+10</td>\n",
       "      <td>1.866257e+10</td>\n",
       "      <td>1.777217e+10</td>\n",
       "      <td>1.588093e+10</td>\n",
       "      <td>1.785398e+10</td>\n",
       "      <td>1.782401e+10</td>\n",
       "      <td>1.896711e+10</td>\n",
       "    </tr>\n",
       "    <tr>\n",
       "      <th>249</th>\n",
       "      <td>United States</td>\n",
       "      <td>USA</td>\n",
       "      <td>Country</td>\n",
       "      <td>Military expenditure (current USD)</td>\n",
       "      <td>4.538000e+10</td>\n",
       "      <td>4.780800e+10</td>\n",
       "      <td>5.238100e+10</td>\n",
       "      <td>5.229500e+10</td>\n",
       "      <td>5.121300e+10</td>\n",
       "      <td>5.182700e+10</td>\n",
       "      <td>...</td>\n",
       "      <td>6.690000e+11</td>\n",
       "      <td>6.980000e+11</td>\n",
       "      <td>7.110000e+11</td>\n",
       "      <td>6.850000e+11</td>\n",
       "      <td>6.400000e+11</td>\n",
       "      <td>6.100000e+11</td>\n",
       "      <td>5.960000e+11</td>\n",
       "      <td>6.000000e+11</td>\n",
       "      <td>6.060000e+11</td>\n",
       "      <td>6.490000e+11</td>\n",
       "    </tr>\n",
       "    <tr>\n",
       "      <th>261</th>\n",
       "      <td>South Africa</td>\n",
       "      <td>ZAF</td>\n",
       "      <td>Country</td>\n",
       "      <td>Military expenditure (current USD)</td>\n",
       "      <td>6.999997e+07</td>\n",
       "      <td>1.137500e+08</td>\n",
       "      <td>1.861999e+08</td>\n",
       "      <td>1.889999e+08</td>\n",
       "      <td>2.715999e+08</td>\n",
       "      <td>2.894499e+08</td>\n",
       "      <td>...</td>\n",
       "      <td>3.592688e+09</td>\n",
       "      <td>4.188168e+09</td>\n",
       "      <td>4.594154e+09</td>\n",
       "      <td>4.489590e+09</td>\n",
       "      <td>4.118208e+09</td>\n",
       "      <td>3.892469e+09</td>\n",
       "      <td>3.488868e+09</td>\n",
       "      <td>3.169756e+09</td>\n",
       "      <td>3.638937e+09</td>\n",
       "      <td>3.639879e+09</td>\n",
       "    </tr>\n",
       "  </tbody>\n",
       "</table>\n",
       "<p>66 rows × 63 columns</p>\n",
       "</div>"
      ],
      "text/plain": [
       "                        Name Code                          Type  \\\n",
       "11                 Australia  AUS                       Country   \n",
       "12                   Austria  AUT                       Country   \n",
       "15                   Belgium  BEL                       Country   \n",
       "17              Burkina Faso  BFA                       Country   \n",
       "27                    Brazil  BRA                       Country   \n",
       "..                       ...  ...                           ...   \n",
       "238  South Asia (IDA & IBRD)  TSA  Regions Clubbed Economically   \n",
       "241                  Tunisia  TUN                       Country   \n",
       "242                   Turkey  TUR                       Country   \n",
       "249            United States  USA                       Country   \n",
       "261             South Africa  ZAF                       Country   \n",
       "\n",
       "                         Indicator Name          1960          1961  \\\n",
       "11   Military expenditure (current USD)  4.597601e+08  4.709601e+08   \n",
       "12   Military expenditure (current USD)  9.155910e+07  9.102985e+07   \n",
       "15   Military expenditure (current USD)  3.832202e+08  3.912188e+08   \n",
       "17   Military expenditure (current USD)  1.268378e+06  1.643154e+06   \n",
       "27   Military expenditure (current USD)  3.827298e+08  3.423397e+08   \n",
       "..                                  ...           ...           ...   \n",
       "238  Military expenditure (current USD)  9.072639e+08  9.755770e+08   \n",
       "241  Military expenditure (current USD)  1.595238e+07  1.857143e+07   \n",
       "242  Military expenditure (current USD)  4.688109e+08  3.013304e+08   \n",
       "249  Military expenditure (current USD)  4.538000e+10  4.780800e+10   \n",
       "261  Military expenditure (current USD)  6.999997e+07  1.137500e+08   \n",
       "\n",
       "             1962          1963          1964          1965  ...  \\\n",
       "11   4.894401e+08  5.532801e+08  6.557601e+08  7.873601e+08  ...   \n",
       "12   1.000270e+08  1.259599e+08  1.645947e+08  1.428957e+08  ...   \n",
       "15   4.222208e+08  4.446013e+08  4.970592e+08  5.007221e+08  ...   \n",
       "17   4.901761e+06  5.281288e+06  5.358593e+06  3.509330e+06  ...   \n",
       "27   3.874490e+08  4.419996e+08  3.542279e+08  6.328690e+08  ...   \n",
       "..            ...           ...           ...           ...  ...   \n",
       "238  1.281626e+09  2.029027e+09  2.258474e+09  2.580099e+09  ...   \n",
       "241  1.428571e+07  1.523810e+07  1.747899e+07  1.276190e+07  ...   \n",
       "242  3.303769e+08  3.500000e+08  3.808978e+08  4.226770e+08  ...   \n",
       "249  5.238100e+10  5.229500e+10  5.121300e+10  5.182700e+10  ...   \n",
       "261  1.861999e+08  1.889999e+08  2.715999e+08  2.894499e+08  ...   \n",
       "\n",
       "             2009          2010          2011          2012          2013  \\\n",
       "11   1.896014e+10  2.321769e+10  2.659720e+10  2.621658e+10  2.482526e+10   \n",
       "12   3.334755e+09  3.218351e+09  3.409721e+09  3.187227e+09  3.229066e+09   \n",
       "15   5.620670e+09  5.244721e+09  5.499371e+09  5.168998e+09  5.263165e+09   \n",
       "17   1.273333e+08  1.237005e+08  1.388509e+08  1.477297e+08  1.661363e+08   \n",
       "27   2.564881e+10  3.400294e+10  3.693621e+10  3.398701e+10  3.287479e+10   \n",
       "..            ...           ...           ...           ...           ...   \n",
       "238  4.723932e+10  5.577481e+10  6.075238e+10  5.848949e+10  5.919605e+10   \n",
       "241  5.647759e+08  5.711890e+08  7.152396e+08  6.812260e+08  7.593589e+08   \n",
       "242  1.635230e+10  1.793937e+10  1.730488e+10  1.795824e+10  1.866257e+10   \n",
       "249  6.690000e+11  6.980000e+11  7.110000e+11  6.850000e+11  6.400000e+11   \n",
       "261  3.592688e+09  4.188168e+09  4.594154e+09  4.489590e+09  4.118208e+09   \n",
       "\n",
       "             2014          2015          2016          2017          2018  \n",
       "11   2.578371e+10  2.404557e+10  2.638295e+10  2.769111e+10  2.671183e+10  \n",
       "12   3.305159e+09  2.665410e+09  2.885947e+09  3.138359e+09  3.367460e+09  \n",
       "15   5.191509e+09  4.202063e+09  4.314102e+09  4.484653e+09  4.959692e+09  \n",
       "17   1.771670e+08  1.479347e+08  1.494674e+08  1.910658e+08  3.124676e+08  \n",
       "27   3.265961e+10  2.461770e+10  2.422475e+10  2.928305e+10  2.776643e+10  \n",
       "..            ...           ...           ...           ...           ...  \n",
       "238  6.443596e+10  6.617543e+10  7.213496e+10  8.207734e+10  8.405855e+10  \n",
       "241  9.083573e+08  9.794940e+08  9.877347e+08  8.589496e+08  8.442274e+08  \n",
       "242  1.777217e+10  1.588093e+10  1.785398e+10  1.782401e+10  1.896711e+10  \n",
       "249  6.100000e+11  5.960000e+11  6.000000e+11  6.060000e+11  6.490000e+11  \n",
       "261  3.892469e+09  3.488868e+09  3.169756e+09  3.638937e+09  3.639879e+09  \n",
       "\n",
       "[66 rows x 63 columns]"
      ]
     },
     "execution_count": 46,
     "metadata": {},
     "output_type": "execute_result"
    }
   ],
   "source": [
    "sample = sample.dropna();\n",
    "sample"
   ]
  },
  {
   "cell_type": "markdown",
   "metadata": {},
   "source": [
    "Melihat Banyak entri pada dataset"
   ]
  },
  {
   "cell_type": "code",
   "execution_count": 47,
   "metadata": {},
   "outputs": [
    {
     "name": "stdout",
     "output_type": "stream",
     "text": [
      "(66, 63)\n"
     ]
    }
   ],
   "source": [
    "print(sample.shape);"
   ]
  },
  {
   "cell_type": "code",
   "execution_count": 48,
   "metadata": {},
   "outputs": [],
   "source": [
    "# Menghapus kolom yang tidak diperlukan\n",
    "sample.drop(['Code','Type','Indicator Name'], axis=1, inplace=True)\n",
    "# Membuat semua kolom dengan tipe String\n",
    "sample.columns = list(map(str, sample.columns))\n",
    "# Mengeset kolom yang berisi Nama Negara menjadi index\n",
    "sample.set_index('Name', inplace=True)\n",
    "# Menambah kolom total yang berisi jumlah pengeluaran dana militer dari setiap negara\n",
    "sample['Total'] = sample.sum(axis=1)\n",
    "# Membuat list terhadap tahun yang nantinya bisa digunakan untuk mempermudah saat melakukan plotting\n",
    "years = list(map(str, range(1960, 2019)))"
   ]
  },
  {
   "cell_type": "markdown",
   "metadata": {},
   "source": [
    "### 2. Filtering"
   ]
  },
  {
   "cell_type": "code",
   "execution_count": 49,
   "metadata": {},
   "outputs": [
    {
     "data": {
      "text/html": [
       "<div>\n",
       "<style scoped>\n",
       "    .dataframe tbody tr th:only-of-type {\n",
       "        vertical-align: middle;\n",
       "    }\n",
       "\n",
       "    .dataframe tbody tr th {\n",
       "        vertical-align: top;\n",
       "    }\n",
       "\n",
       "    .dataframe thead th {\n",
       "        text-align: right;\n",
       "    }\n",
       "</style>\n",
       "<table border=\"1\" class=\"dataframe\">\n",
       "  <thead>\n",
       "    <tr style=\"text-align: right;\">\n",
       "      <th></th>\n",
       "      <th>1960</th>\n",
       "      <th>1961</th>\n",
       "      <th>1962</th>\n",
       "      <th>1963</th>\n",
       "      <th>1964</th>\n",
       "      <th>1965</th>\n",
       "      <th>1966</th>\n",
       "      <th>1967</th>\n",
       "      <th>1968</th>\n",
       "      <th>1969</th>\n",
       "      <th>...</th>\n",
       "      <th>2010</th>\n",
       "      <th>2011</th>\n",
       "      <th>2012</th>\n",
       "      <th>2013</th>\n",
       "      <th>2014</th>\n",
       "      <th>2015</th>\n",
       "      <th>2016</th>\n",
       "      <th>2017</th>\n",
       "      <th>2018</th>\n",
       "      <th>Total</th>\n",
       "    </tr>\n",
       "    <tr>\n",
       "      <th>Name</th>\n",
       "      <th></th>\n",
       "      <th></th>\n",
       "      <th></th>\n",
       "      <th></th>\n",
       "      <th></th>\n",
       "      <th></th>\n",
       "      <th></th>\n",
       "      <th></th>\n",
       "      <th></th>\n",
       "      <th></th>\n",
       "      <th></th>\n",
       "      <th></th>\n",
       "      <th></th>\n",
       "      <th></th>\n",
       "      <th></th>\n",
       "      <th></th>\n",
       "      <th></th>\n",
       "      <th></th>\n",
       "      <th></th>\n",
       "      <th></th>\n",
       "      <th></th>\n",
       "    </tr>\n",
       "  </thead>\n",
       "  <tbody>\n",
       "    <tr>\n",
       "      <th>Australia</th>\n",
       "      <td>459760073.6</td>\n",
       "      <td>470960075.4</td>\n",
       "      <td>489440078.3</td>\n",
       "      <td>553280088.5</td>\n",
       "      <td>655760104.9</td>\n",
       "      <td>787360126.0</td>\n",
       "      <td>986720157.9</td>\n",
       "      <td>1.197840e+09</td>\n",
       "      <td>1.321600e+09</td>\n",
       "      <td>1.314880e+09</td>\n",
       "      <td>...</td>\n",
       "      <td>2.321769e+10</td>\n",
       "      <td>2.659720e+10</td>\n",
       "      <td>2.621658e+10</td>\n",
       "      <td>2.482526e+10</td>\n",
       "      <td>2.578371e+10</td>\n",
       "      <td>2.404557e+10</td>\n",
       "      <td>2.638295e+10</td>\n",
       "      <td>2.769111e+10</td>\n",
       "      <td>2.671183e+10</td>\n",
       "      <td>5.089079e+11</td>\n",
       "    </tr>\n",
       "    <tr>\n",
       "      <th>Brazil</th>\n",
       "      <td>382729752.1</td>\n",
       "      <td>342339720.8</td>\n",
       "      <td>387449035.5</td>\n",
       "      <td>441999606.2</td>\n",
       "      <td>354227857.1</td>\n",
       "      <td>632869026.5</td>\n",
       "      <td>718216574.6</td>\n",
       "      <td>7.461392e+08</td>\n",
       "      <td>7.553076e+08</td>\n",
       "      <td>8.166228e+08</td>\n",
       "      <td>...</td>\n",
       "      <td>3.400294e+10</td>\n",
       "      <td>3.693621e+10</td>\n",
       "      <td>3.398701e+10</td>\n",
       "      <td>3.287479e+10</td>\n",
       "      <td>3.265961e+10</td>\n",
       "      <td>2.461770e+10</td>\n",
       "      <td>2.422475e+10</td>\n",
       "      <td>2.928305e+10</td>\n",
       "      <td>2.776643e+10</td>\n",
       "      <td>5.934356e+11</td>\n",
       "    </tr>\n",
       "    <tr>\n",
       "      <th>Turkey</th>\n",
       "      <td>468810916.2</td>\n",
       "      <td>301330376.9</td>\n",
       "      <td>330376940.1</td>\n",
       "      <td>350000000.0</td>\n",
       "      <td>380897803.7</td>\n",
       "      <td>422676991.2</td>\n",
       "      <td>442035398.2</td>\n",
       "      <td>5.084071e+08</td>\n",
       "      <td>5.706858e+08</td>\n",
       "      <td>5.967920e+08</td>\n",
       "      <td>...</td>\n",
       "      <td>1.793937e+10</td>\n",
       "      <td>1.730488e+10</td>\n",
       "      <td>1.795824e+10</td>\n",
       "      <td>1.866257e+10</td>\n",
       "      <td>1.777217e+10</td>\n",
       "      <td>1.588093e+10</td>\n",
       "      <td>1.785398e+10</td>\n",
       "      <td>1.782401e+10</td>\n",
       "      <td>1.896711e+10</td>\n",
       "      <td>4.005090e+11</td>\n",
       "    </tr>\n",
       "  </tbody>\n",
       "</table>\n",
       "<p>3 rows × 60 columns</p>\n",
       "</div>"
      ],
      "text/plain": [
       "                  1960         1961         1962         1963         1964  \\\n",
       "Name                                                                         \n",
       "Australia  459760073.6  470960075.4  489440078.3  553280088.5  655760104.9   \n",
       "Brazil     382729752.1  342339720.8  387449035.5  441999606.2  354227857.1   \n",
       "Turkey     468810916.2  301330376.9  330376940.1  350000000.0  380897803.7   \n",
       "\n",
       "                  1965         1966          1967          1968          1969  \\\n",
       "Name                                                                            \n",
       "Australia  787360126.0  986720157.9  1.197840e+09  1.321600e+09  1.314880e+09   \n",
       "Brazil     632869026.5  718216574.6  7.461392e+08  7.553076e+08  8.166228e+08   \n",
       "Turkey     422676991.2  442035398.2  5.084071e+08  5.706858e+08  5.967920e+08   \n",
       "\n",
       "           ...          2010          2011          2012          2013  \\\n",
       "Name       ...                                                           \n",
       "Australia  ...  2.321769e+10  2.659720e+10  2.621658e+10  2.482526e+10   \n",
       "Brazil     ...  3.400294e+10  3.693621e+10  3.398701e+10  3.287479e+10   \n",
       "Turkey     ...  1.793937e+10  1.730488e+10  1.795824e+10  1.866257e+10   \n",
       "\n",
       "                   2014          2015          2016          2017  \\\n",
       "Name                                                                \n",
       "Australia  2.578371e+10  2.404557e+10  2.638295e+10  2.769111e+10   \n",
       "Brazil     3.265961e+10  2.461770e+10  2.422475e+10  2.928305e+10   \n",
       "Turkey     1.777217e+10  1.588093e+10  1.785398e+10  1.782401e+10   \n",
       "\n",
       "                   2018         Total  \n",
       "Name                                   \n",
       "Australia  2.671183e+10  5.089079e+11  \n",
       "Brazil     2.776643e+10  5.934356e+11  \n",
       "Turkey     1.896711e+10  4.005090e+11  \n",
       "\n",
       "[3 rows x 60 columns]"
      ]
     },
     "execution_count": 49,
     "metadata": {},
     "output_type": "execute_result"
    }
   ],
   "source": [
    "# Mengambil data pada 3 negara\n",
    "df_abt = sample.loc[['Australia', 'Brazil', 'Turkey'], :] # a --> Australia, b --> Brazil, t --> Turkey disingkat menjadi abt ^_^\n",
    "# Melihat Dataframe baru ini\n",
    "df_abt"
   ]
  },
  {
   "cell_type": "markdown",
   "metadata": {},
   "source": [
    "### 3. Waffle Chart"
   ]
  },
  {
   "cell_type": "markdown",
   "metadata": {},
   "source": [
    "Tahapan pertama untuk membuat waffle chart adalah menentukan proporis pada setiap kategori sehubungan dengan nilai totalnya. "
   ]
  },
  {
   "cell_type": "code",
   "execution_count": 50,
   "metadata": {},
   "outputs": [
    {
     "data": {
      "text/html": [
       "<div>\n",
       "<style scoped>\n",
       "    .dataframe tbody tr th:only-of-type {\n",
       "        vertical-align: middle;\n",
       "    }\n",
       "\n",
       "    .dataframe tbody tr th {\n",
       "        vertical-align: top;\n",
       "    }\n",
       "\n",
       "    .dataframe thead th {\n",
       "        text-align: right;\n",
       "    }\n",
       "</style>\n",
       "<table border=\"1\" class=\"dataframe\">\n",
       "  <thead>\n",
       "    <tr style=\"text-align: right;\">\n",
       "      <th></th>\n",
       "      <th>Proporsi pada setiap kategori</th>\n",
       "    </tr>\n",
       "    <tr>\n",
       "      <th>Name</th>\n",
       "      <th></th>\n",
       "    </tr>\n",
       "  </thead>\n",
       "  <tbody>\n",
       "    <tr>\n",
       "      <th>Australia</th>\n",
       "      <td>0.338628</td>\n",
       "    </tr>\n",
       "    <tr>\n",
       "      <th>Brazil</th>\n",
       "      <td>0.394873</td>\n",
       "    </tr>\n",
       "    <tr>\n",
       "      <th>Turkey</th>\n",
       "      <td>0.266499</td>\n",
       "    </tr>\n",
       "  </tbody>\n",
       "</table>\n",
       "</div>"
      ],
      "text/plain": [
       "           Proporsi pada setiap kategori\n",
       "Name                                    \n",
       "Australia                       0.338628\n",
       "Brazil                          0.394873\n",
       "Turkey                          0.266499"
      ]
     },
     "execution_count": 50,
     "metadata": {},
     "output_type": "execute_result"
    }
   ],
   "source": [
    "# Membuat proporsi pada setiap kategrori sehubungan dengan nilai totalnya\n",
    "nilai_total = df_abt['Total'].sum()\n",
    "proporsi_kategori = df_abt['Total'] / nilai_total\n",
    "\n",
    "# Mencetak nilai proporsi pada setiap kategori\n",
    "pd.DataFrame({'Proporsi pada setiap kategori': proporsi_kategori})"
   ]
  },
  {
   "cell_type": "markdown",
   "metadata": {},
   "source": [
    "Tahapan Kedua adalah mendefinisikan keseluruhan ukuran pada waffle chart"
   ]
  },
  {
   "cell_type": "code",
   "execution_count": 51,
   "metadata": {},
   "outputs": [
    {
     "name": "stdout",
     "output_type": "stream",
     "text": [
      "Tinggi ubin: 400\n"
     ]
    }
   ],
   "source": [
    "# Inisialisasi tinggi dan lebar dari waffle chart\n",
    "lebar = 40\n",
    "tinggi = 10\n",
    "\n",
    "# Menghitung tinggi ubin\n",
    "tinggi_ubin = tinggi * lebar\n",
    "\n",
    "print(f'Tinggi ubin: {tinggi_ubin}')\n"
   ]
  },
  {
   "cell_type": "markdown",
   "metadata": {},
   "source": [
    "Tahapan ketiga adalah menggunakan proporsi pada setiap kategori untuk menentukan masing-masing bilangan pada ubin"
   ]
  },
  {
   "cell_type": "code",
   "execution_count": 52,
   "metadata": {},
   "outputs": [
    {
     "data": {
      "text/html": [
       "<div>\n",
       "<style scoped>\n",
       "    .dataframe tbody tr th:only-of-type {\n",
       "        vertical-align: middle;\n",
       "    }\n",
       "\n",
       "    .dataframe tbody tr th {\n",
       "        vertical-align: top;\n",
       "    }\n",
       "\n",
       "    .dataframe thead th {\n",
       "        text-align: right;\n",
       "    }\n",
       "</style>\n",
       "<table border=\"1\" class=\"dataframe\">\n",
       "  <thead>\n",
       "    <tr style=\"text-align: right;\">\n",
       "      <th></th>\n",
       "      <th>Jumlah ubin</th>\n",
       "    </tr>\n",
       "    <tr>\n",
       "      <th>Name</th>\n",
       "      <th></th>\n",
       "    </tr>\n",
       "  </thead>\n",
       "  <tbody>\n",
       "    <tr>\n",
       "      <th>Australia</th>\n",
       "      <td>135</td>\n",
       "    </tr>\n",
       "    <tr>\n",
       "      <th>Brazil</th>\n",
       "      <td>158</td>\n",
       "    </tr>\n",
       "    <tr>\n",
       "      <th>Turkey</th>\n",
       "      <td>107</td>\n",
       "    </tr>\n",
       "  </tbody>\n",
       "</table>\n",
       "</div>"
      ],
      "text/plain": [
       "           Jumlah ubin\n",
       "Name                  \n",
       "Australia          135\n",
       "Brazil             158\n",
       "Turkey             107"
      ]
     },
     "execution_count": 52,
     "metadata": {},
     "output_type": "execute_result"
    }
   ],
   "source": [
    "# menghitung jumlah ubin pada setiap kategori\n",
    "ubin_per_kategori = (proporsi_kategori * tinggi_ubin).round().astype(int)\n",
    "\n",
    "# Mencetak jumlah ubin pada setiap kategori\n",
    "pd.DataFrame({'Jumlah ubin': ubin_per_kategori})\n"
   ]
  },
  {
   "cell_type": "markdown",
   "metadata": {},
   "source": [
    "<h5>Perhitungan proporsi pada ketiga negara</h5>\n",
    "<ul>\n",
    "<li>Australia akan menempati 135 ubin pada waffle chart</li>\n",
    "<li>Brazil akan menempati 158 ubin pada waffle chart</li>\n",
    "<li>Turkey akan menempati 107 ubin pada waffle chart</li>\n",
    "\n",
    "</ul>"
   ]
  },
  {
   "cell_type": "markdown",
   "metadata": {},
   "source": [
    "Tahapan keempat adalah membuat sebuah matriks yang menyerupai waffle chart dan mempopulasikanya."
   ]
  },
  {
   "cell_type": "code",
   "execution_count": 53,
   "metadata": {},
   "outputs": [
    {
     "name": "stdout",
     "output_type": "stream",
     "text": [
      "waffle chart populated!\n"
     ]
    }
   ],
   "source": [
    "# Inisialisasi sebuah waffle chart sebagai matriks kosong\n",
    "waffle_chart = np.zeros((tinggi, lebar), dtype = np.uint)\n",
    "\n",
    "# Mendefinisikan indeks untuk membuat perulangan melalui waffle chart\n",
    "indeks_kategori = 0\n",
    "indeks_ubin = 0\n",
    "\n",
    "# Melakukan perulangan untuk mengisi waffle chart\n",
    "for kolom in range(lebar):\n",
    "    for baris in range(tinggi):\n",
    "        indeks_ubin = indeks_ubin + 1\n",
    "        \n",
    "        # Jika indeks ubin melebihi jumlah ubin pada kategori, maka indeks kategori akan bertambah\n",
    "        if indeks_ubin > sum(ubin_per_kategori[0:indeks_kategori]):\n",
    "            # Melakukan proses ke kategori selanjutnya\n",
    "            indeks_kategori = indeks_kategori + 1\n",
    "        \n",
    "        # Mengeset nilai class ke tipe data integer, yang dimana nilai class tersebut akan menentukan warna pada waffle chart\n",
    "        waffle_chart[baris, kolom] = indeks_kategori\n",
    "        \n",
    "# Mencetak waffle chart\n",
    "print('waffle chart populated!')"
   ]
  },
  {
   "cell_type": "markdown",
   "metadata": {},
   "source": [
    "Melihat bagaimana bentuk matriks pada waffle chart"
   ]
  },
  {
   "cell_type": "code",
   "execution_count": 54,
   "metadata": {},
   "outputs": [
    {
     "data": {
      "text/plain": [
       "array([[1, 1, 1, 1, 1, 1, 1, 1, 1, 1, 1, 1, 1, 1, 2, 2, 2, 2, 2, 2, 2, 2,\n",
       "        2, 2, 2, 2, 2, 2, 2, 2, 3, 3, 3, 3, 3, 3, 3, 3, 3, 3],\n",
       "       [1, 1, 1, 1, 1, 1, 1, 1, 1, 1, 1, 1, 1, 1, 2, 2, 2, 2, 2, 2, 2, 2,\n",
       "        2, 2, 2, 2, 2, 2, 2, 2, 3, 3, 3, 3, 3, 3, 3, 3, 3, 3],\n",
       "       [1, 1, 1, 1, 1, 1, 1, 1, 1, 1, 1, 1, 1, 1, 2, 2, 2, 2, 2, 2, 2, 2,\n",
       "        2, 2, 2, 2, 2, 2, 2, 2, 3, 3, 3, 3, 3, 3, 3, 3, 3, 3],\n",
       "       [1, 1, 1, 1, 1, 1, 1, 1, 1, 1, 1, 1, 1, 1, 2, 2, 2, 2, 2, 2, 2, 2,\n",
       "        2, 2, 2, 2, 2, 2, 2, 3, 3, 3, 3, 3, 3, 3, 3, 3, 3, 3],\n",
       "       [1, 1, 1, 1, 1, 1, 1, 1, 1, 1, 1, 1, 1, 1, 2, 2, 2, 2, 2, 2, 2, 2,\n",
       "        2, 2, 2, 2, 2, 2, 2, 3, 3, 3, 3, 3, 3, 3, 3, 3, 3, 3],\n",
       "       [1, 1, 1, 1, 1, 1, 1, 1, 1, 1, 1, 1, 1, 2, 2, 2, 2, 2, 2, 2, 2, 2,\n",
       "        2, 2, 2, 2, 2, 2, 2, 3, 3, 3, 3, 3, 3, 3, 3, 3, 3, 3],\n",
       "       [1, 1, 1, 1, 1, 1, 1, 1, 1, 1, 1, 1, 1, 2, 2, 2, 2, 2, 2, 2, 2, 2,\n",
       "        2, 2, 2, 2, 2, 2, 2, 3, 3, 3, 3, 3, 3, 3, 3, 3, 3, 3],\n",
       "       [1, 1, 1, 1, 1, 1, 1, 1, 1, 1, 1, 1, 1, 2, 2, 2, 2, 2, 2, 2, 2, 2,\n",
       "        2, 2, 2, 2, 2, 2, 2, 3, 3, 3, 3, 3, 3, 3, 3, 3, 3, 3],\n",
       "       [1, 1, 1, 1, 1, 1, 1, 1, 1, 1, 1, 1, 1, 2, 2, 2, 2, 2, 2, 2, 2, 2,\n",
       "        2, 2, 2, 2, 2, 2, 2, 3, 3, 3, 3, 3, 3, 3, 3, 3, 3, 3],\n",
       "       [1, 1, 1, 1, 1, 1, 1, 1, 1, 1, 1, 1, 1, 2, 2, 2, 2, 2, 2, 2, 2, 2,\n",
       "        2, 2, 2, 2, 2, 2, 2, 3, 3, 3, 3, 3, 3, 3, 3, 3, 3, 3]],\n",
       "      dtype=uint32)"
      ]
     },
     "execution_count": 54,
     "metadata": {},
     "output_type": "execute_result"
    }
   ],
   "source": [
    "waffle_chart"
   ]
  },
  {
   "cell_type": "markdown",
   "metadata": {},
   "source": [
    "Seperti yang diharapkan, matriks terdiri dari tiga kategori dan jumlah total instance setiap kategori cocok dengan jumlah ubin yang dialokasikan untuk setiap kategori."
   ]
  },
  {
   "cell_type": "markdown",
   "metadata": {},
   "source": [
    "Tahapan kelima adalah membuat map pada waffle chart ke dalam bentuk visual"
   ]
  },
  {
   "cell_type": "code",
   "execution_count": 55,
   "metadata": {},
   "outputs": [
    {
     "data": {
      "text/plain": [
       "<Figure size 432x288 with 0 Axes>"
      ]
     },
     "metadata": {},
     "output_type": "display_data"
    },
    {
     "data": {
      "image/png": "[encoded data removed]",
      "text/plain": [
       "<Figure size 1152x288 with 2 Axes>"
      ]
     },
     "metadata": {
      "needs_background": "light"
     },
     "output_type": "display_data"
    }
   ],
   "source": [
    "# membuat sebuah gambaran objek baru\n",
    "fig = plt.figure()\n",
    "\n",
    "# Menggunakan matshow untuk menampilkan waffle chart\n",
    "colormap = plt.cm.coolwarm\n",
    "plt.matshow(waffle_chart, cmap = colormap)\n",
    "plt.colorbar()\n",
    "plt.show()"
   ]
  },
  {
   "cell_type": "markdown",
   "metadata": {},
   "source": [
    "Tahapan keenam memperhias waffle chart ^_^"
   ]
  },
  {
   "cell_type": "code",
   "execution_count": 56,
   "metadata": {},
   "outputs": [
    {
     "data": {
      "text/plain": [
       "<Figure size 432x288 with 0 Axes>"
      ]
     },
     "metadata": {},
     "output_type": "display_data"
    },
    {
     "data": {
      "image/png": "[encoded data removed]",
      "text/plain": [
       "<Figure size 1152x288 with 2 Axes>"
      ]
     },
     "metadata": {
      "needs_background": "light"
     },
     "output_type": "display_data"
    }
   ],
   "source": [
    "# inisialisasi figure baru\n",
    "fig = plt.figure()\n",
    "\n",
    "# Menggunakan matshow untuk menampilkan waffle chart\n",
    "colormap = plt.cm.coolwarm\n",
    "plt.matshow(waffle_chart, cmap=colormap)\n",
    "plt.colorbar()\n",
    "\n",
    "# Mendapatkan nilai axis-nya\n",
    "ax = plt.gca()\n",
    "\n",
    "# Mengeset minor ticks\n",
    "ax.set_xticks(np.arange(-.5, (lebar), 1), minor=True)\n",
    "ax.set_yticks(np.arange(-.5, (tinggi), 1), minor=True)\n",
    "    \n",
    "# Menambah gridlines berdasarkan minor ticks\n",
    "ax.grid(which='minor', color='w', linestyle='-', linewidth=2)\n",
    "\n",
    "plt.xticks([])\n",
    "plt.yticks([])\n",
    "plt.show()"
   ]
  },
  {
   "cell_type": "markdown",
   "metadata": {},
   "source": [
    "Tahapan ketujuh membuah plot legend dan menambahkanya ke dalam waffle chart"
   ]
  },
  {
   "cell_type": "code",
   "execution_count": 57,
   "metadata": {},
   "outputs": [
    {
     "data": {
      "image/png": "[encoded data removed]",
      "text/plain": [
       "<Figure size 1152x288 with 2 Axes>"
      ]
     },
     "metadata": {
      "needs_background": "light"
     },
     "output_type": "display_data"
    }
   ],
   "source": [
    "# Menggunakan matshow untuk menampilkan waffle chart\n",
    "colormap = plt.cm.coolwarm\n",
    "plt.matshow(waffle_chart, cmap=colormap)\n",
    "plt.colorbar()\n",
    "\n",
    "# mendapatkan nilai axis-nya\n",
    "ax = plt.gca()\n",
    "\n",
    "# mengeset minor ticks\n",
    "ax.set_xticks(np.arange(-.5, (lebar), 1), minor=True)\n",
    "ax.set_yticks(np.arange(-.5, (tinggi), 1), minor=True)\n",
    "    \n",
    "# menambhkan gridlines berdasarkan minor ticks\n",
    "ax.grid(which='minor', color='w', linestyle='-', linewidth=2)\n",
    "\n",
    "plt.xticks([])\n",
    "plt.yticks([])\n",
    "\n",
    "# menghitung nilai cumulative pada setiap kategori untuk mencocokan warna antara chart and legend\n",
    "values_cumsum = np.cumsum(df_abt['Total'])\n",
    "total_values = values_cumsum[len(values_cumsum) - 1]\n",
    "\n",
    "# membuat legend\n",
    "legend_handles = []\n",
    "for i, category in enumerate(df_abt.index.values):\n",
    "    label_str = category + ' (' + str(df_abt['Total'][i]) + ')'\n",
    "    color_val = colormap(float(values_cumsum[i])/total_values)\n",
    "    legend_handles.append(mpatches.Patch(color=color_val, label=label_str))\n",
    "\n",
    "# menambah legend ke chart\n",
    "plt.legend(handles=legend_handles,\n",
    "           loc='lower center', \n",
    "           ncol=len(df_abt.index.values),\n",
    "           bbox_to_anchor=(0., -0.2, 0.95, .1)\n",
    "          )\n",
    "plt.show()"
   ]
  },
  {
   "cell_type": "markdown",
   "metadata": {},
   "source": [
    "### 4. Word Clouds"
   ]
  },
  {
   "cell_type": "markdown",
   "metadata": {},
   "source": [
    "### 5. Seaborn and Regression Plots"
   ]
  }
 ],
 "metadata": {
  "interpreter": {
   "hash": "26aa6072d1ed0e472aea8687e7dca1433993b9671245bbd21c12d66bb6bdbb5b"
  },
  "kernelspec": {
   "display_name": "Python 3.9.4 64-bit",
   "language": "python",
   "name": "python3"
  },
  "language_info": {
   "codemirror_mode": {
    "name": "ipython",
    "version": 3
   },
   "file_extension": ".py",
   "mimetype": "text/x-python",
   "name": "python",
   "nbconvert_exporter": "python",
   "pygments_lexer": "ipython3",
   "version": "3.9.4"
  },
  "orig_nbformat": 4
 },
 "nbformat": 4,
 "nbformat_minor": 2
}
