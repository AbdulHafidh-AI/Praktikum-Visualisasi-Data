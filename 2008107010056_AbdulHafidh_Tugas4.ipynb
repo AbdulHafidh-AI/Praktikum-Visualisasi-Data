{
 "cells": [
  {
   "cell_type": "markdown",
   "metadata": {},
   "source": [
    "### INTRODUCTION\n",
    "<ul>\n",
    "<li>Nama: Abdul Hafidh</li>\n",
    "<li> NPM: 2008107010056</li>\n",
    "<li> Kelas: B</li>\n",
    "</ul>"
   ]
  },
  {
   "cell_type": "code",
   "execution_count": null,
   "metadata": {},
   "outputs": [],
   "source": []
  }
 ],
 "metadata": {
  "language_info": {
   "name": "python"
  },
  "orig_nbformat": 4
 },
 "nbformat": 4,
 "nbformat_minor": 2
}
