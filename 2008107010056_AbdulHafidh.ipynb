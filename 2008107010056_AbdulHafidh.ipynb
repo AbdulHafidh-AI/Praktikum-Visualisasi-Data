{
 "cells": [
  {
   "cell_type": "markdown",
   "metadata": {},
   "source": [
    "# Tugas 1 Praktikum Visualisasi Data\n",
    "## Pada tugas ini dataset yang saya gunakan adalah dataset terhadap variants covid\n",
    "\n",
    "- Nama: Abdul Hafidh\n",
    "- NPM: 2008107010056\n",
    "- Kelas: B"
   ]
  },
  {
   "cell_type": "markdown",
   "metadata": {},
   "source": [
    "# Library atau modules yang saya gunakan untuk tugas ini adalah sebagai berikut:\n",
    "- pandas -> untuk membaca dataset yang berekstensi *.csv\n",
    "- matplotlib -> untuk menampilkan line plot"
   ]
  },
  {
   "cell_type": "code",
   "execution_count": 3,
   "metadata": {},
   "outputs": [],
   "source": [
    "import pandas as pd\n",
    "import numpy as np\n",
    "import matplotlib as mpl"
   ]
  },
  {
   "cell_type": "markdown",
   "metadata": {},
   "source": [
    "# Untuk membaca data \"covid-variants.csv\" saya memakai fungsi read pada library pandas"
   ]
  },
  {
   "cell_type": "code",
   "execution_count": 4,
   "metadata": {},
   "outputs": [],
   "source": [
    "dataCovid = pd.read_csv('covid-variants.csv')"
   ]
  },
  {
   "cell_type": "markdown",
   "metadata": {},
   "source": [
    "# No. 1 Exploratory Data Analysis\n",
    "\n",
    "Pada bagian ini saya ingin melakukan eksplorasi pada hal-hal dibawah ini:\n",
    "A. Menampilkan data 5 teratas\n",
    "B. Menampilkan data 5 terbawah \n",
    "C. Menampilkan data yang duplikat\n",
    "D. Menampilkan nilai deskriptif pada atribut yang kuantitatif"
   ]
  },
  {
   "cell_type": "markdown",
   "metadata": {},
   "source": [
    "# A. Berikut ini adalah data-data 5 teratas"
   ]
  },
  {
   "cell_type": "code",
   "execution_count": 9,
   "metadata": {},
   "outputs": [
    {
     "name": "stdout",
     "output_type": "stream",
     "text": [
      "  location        date    variant  num_sequences  perc_sequences  \\\n",
      "0   Angola  2020-07-06      Alpha              0             0.0   \n",
      "1   Angola  2020-07-06  B.1.1.277              0             0.0   \n",
      "2   Angola  2020-07-06  B.1.1.302              0             0.0   \n",
      "3   Angola  2020-07-06  B.1.1.519              0             0.0   \n",
      "4   Angola  2020-07-06    B.1.160              0             0.0   \n",
      "\n",
      "   num_sequences_total  \n",
      "0                    3  \n",
      "1                    3  \n",
      "2                    3  \n",
      "3                    3  \n",
      "4                    3  \n"
     ]
    }
   ],
   "source": [
    "print(dataCovid.head())"
   ]
  },
  {
   "cell_type": "markdown",
   "metadata": {},
   "source": [
    "# B. Berikut ini adalah data-data 5 terbawah"
   ]
  },
  {
   "cell_type": "code",
   "execution_count": 5,
   "metadata": {},
   "outputs": [
    {
     "name": "stdout",
     "output_type": "stream",
     "text": [
      "        location        date         variant  num_sequences  perc_sequences  \\\n",
      "100411  Zimbabwe  2021-11-01         Omicron              0             0.0   \n",
      "100412  Zimbabwe  2021-11-01   S:677H.Robin1              0             0.0   \n",
      "100413  Zimbabwe  2021-11-01  S:677P.Pelican              0             0.0   \n",
      "100414  Zimbabwe  2021-11-01          others              0             0.0   \n",
      "100415  Zimbabwe  2021-11-01         non_who              0             0.0   \n",
      "\n",
      "        num_sequences_total  \n",
      "100411                    6  \n",
      "100412                    6  \n",
      "100413                    6  \n",
      "100414                    6  \n",
      "100415                    6  \n"
     ]
    }
   ],
   "source": [
    "print(dataCovid.tail())"
   ]
  },
  {
   "cell_type": "markdown",
   "metadata": {},
   "source": [
    "# C. Menampilkan data yang duplikat"
   ]
  },
  {
   "cell_type": "markdown",
   "metadata": {},
   "source": [
    "# D. Menampilkan nilai deskriptif pada atribut kuantitatif"
   ]
  },
  {
   "cell_type": "code",
   "execution_count": 14,
   "metadata": {},
   "outputs": [
    {
     "data": {
      "text/html": [
       "<div>\n",
       "<style scoped>\n",
       "    .dataframe tbody tr th:only-of-type {\n",
       "        vertical-align: middle;\n",
       "    }\n",
       "\n",
       "    .dataframe tbody tr th {\n",
       "        vertical-align: top;\n",
       "    }\n",
       "\n",
       "    .dataframe thead th {\n",
       "        text-align: right;\n",
       "    }\n",
       "</style>\n",
       "<table border=\"1\" class=\"dataframe\">\n",
       "  <thead>\n",
       "    <tr style=\"text-align: right;\">\n",
       "      <th></th>\n",
       "      <th>location</th>\n",
       "      <th>date</th>\n",
       "      <th>variant</th>\n",
       "    </tr>\n",
       "  </thead>\n",
       "  <tbody>\n",
       "    <tr>\n",
       "      <th>count</th>\n",
       "      <td>100416</td>\n",
       "      <td>100416</td>\n",
       "      <td>100416</td>\n",
       "    </tr>\n",
       "    <tr>\n",
       "      <th>unique</th>\n",
       "      <td>121</td>\n",
       "      <td>45</td>\n",
       "      <td>24</td>\n",
       "    </tr>\n",
       "    <tr>\n",
       "      <th>top</th>\n",
       "      <td>Bangladesh</td>\n",
       "      <td>2021-01-25</td>\n",
       "      <td>Alpha</td>\n",
       "    </tr>\n",
       "    <tr>\n",
       "      <th>freq</th>\n",
       "      <td>1080</td>\n",
       "      <td>2688</td>\n",
       "      <td>4184</td>\n",
       "    </tr>\n",
       "  </tbody>\n",
       "</table>\n",
       "</div>"
      ],
      "text/plain": [
       "          location        date variant\n",
       "count       100416      100416  100416\n",
       "unique         121          45      24\n",
       "top     Bangladesh  2021-01-25   Alpha\n",
       "freq          1080        2688    4184"
      ]
     },
     "execution_count": 14,
     "metadata": {},
     "output_type": "execute_result"
    }
   ],
   "source": [
    "dataCovid.describe(include = [object])"
   ]
  },
  {
   "cell_type": "markdown",
   "metadata": {},
   "source": []
  },
  {
   "cell_type": "markdown",
   "metadata": {},
   "source": [
    "# No 2. Filtering\n",
    "\n",
    "Pada bagian ini saya ingin menampilkan data yang variants-nya itu adalah omicron\n"
   ]
  },
  {
   "cell_type": "code",
   "execution_count": null,
   "metadata": {},
   "outputs": [],
   "source": []
  },
  {
   "cell_type": "markdown",
   "metadata": {},
   "source": [
    "# No 3. Plotting"
   ]
  }
 ],
 "metadata": {
  "interpreter": {
   "hash": "26aa6072d1ed0e472aea8687e7dca1433993b9671245bbd21c12d66bb6bdbb5b"
  },
  "kernelspec": {
   "display_name": "Python 3.9.4 64-bit",
   "language": "python",
   "name": "python3"
  },
  "language_info": {
   "codemirror_mode": {
    "name": "ipython",
    "version": 3
   },
   "file_extension": ".py",
   "mimetype": "text/x-python",
   "name": "python",
   "nbconvert_exporter": "python",
   "pygments_lexer": "ipython3",
   "version": "3.9.4"
  },
  "orig_nbformat": 4
 },
 "nbformat": 4,
 "nbformat_minor": 2
}
